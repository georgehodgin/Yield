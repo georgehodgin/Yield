{
 "cells": [
  {
   "cell_type": "code",
   "execution_count": 13,
   "id": "34004dc4",
   "metadata": {},
   "outputs": [],
   "source": [
    "import pickle\n",
    "import pandas as pd\n",
    "import numpy as np\n",
    "from sklearn.model_selection import KFold\n",
    "from drfp import DrfpEncoder\n",
    "from functools import partial\n",
    "from typing import Iterable\n",
    "from sklearn.utils import shuffle\n",
    "from sklearn import preprocessing\n",
    "import multiprocessing"
   ]
  },
  {
   "cell_type": "code",
   "execution_count": null,
   "id": "95f2bfb2",
   "metadata": {},
   "outputs": [],
   "source": [
    "data = pd.read_csv(\"amidation_carboxylicAcid_primaryAmine_ECFP_2048.csv\")"
   ]
  },
  {
   "cell_type": "code",
   "execution_count": 6,
   "id": "1875e5b3",
   "metadata": {},
   "outputs": [],
   "source": [
    "data_1 = data[data['yield']<100]"
   ]
  },
  {
   "cell_type": "code",
   "execution_count": 7,
   "id": "0ed27362",
   "metadata": {},
   "outputs": [
    {
     "name": "stderr",
     "output_type": "stream",
     "text": [
      "C:\\Users\\george.hodgin\\AppData\\Local\\Temp\\ipykernel_16532\\3304276863.py:2: SettingWithCopyWarning: \n",
      "A value is trying to be set on a copy of a slice from a DataFrame.\n",
      "Try using .loc[row_indexer,col_indexer] = value instead\n",
      "\n",
      "See the caveats in the documentation: https://pandas.pydata.org/pandas-docs/stable/user_guide/indexing.html#returning-a-view-versus-a-copy\n",
      "  data_1['Reactants'] = data_1['smiles(IREACTION)(SMILES)'].str.split('>', expand=True)[0]\n",
      "C:\\Users\\george.hodgin\\AppData\\Local\\Temp\\ipykernel_16532\\3304276863.py:3: SettingWithCopyWarning: \n",
      "A value is trying to be set on a copy of a slice from a DataFrame.\n",
      "Try using .loc[row_indexer,col_indexer] = value instead\n",
      "\n",
      "See the caveats in the documentation: https://pandas.pydata.org/pandas-docs/stable/user_guide/indexing.html#returning-a-view-versus-a-copy\n",
      "  data_1['Agents'] = data_1['smiles(IREACTION)(SMILES)'].str.split('>', expand=True)[1]\n",
      "C:\\Users\\george.hodgin\\AppData\\Local\\Temp\\ipykernel_16532\\3304276863.py:4: SettingWithCopyWarning: \n",
      "A value is trying to be set on a copy of a slice from a DataFrame.\n",
      "Try using .loc[row_indexer,col_indexer] = value instead\n",
      "\n",
      "See the caveats in the documentation: https://pandas.pydata.org/pandas-docs/stable/user_guide/indexing.html#returning-a-view-versus-a-copy\n",
      "  data_1['Products'] = data_1['smiles(IREACTION)(SMILES)'].str.split('>', expand=True)[2]\n",
      "C:\\Users\\george.hodgin\\AppData\\Local\\Temp\\ipykernel_16532\\3304276863.py:5: SettingWithCopyWarning: \n",
      "A value is trying to be set on a copy of a slice from a DataFrame.\n",
      "Try using .loc[row_indexer,col_indexer] = value instead\n",
      "\n",
      "See the caveats in the documentation: https://pandas.pydata.org/pandas-docs/stable/user_guide/indexing.html#returning-a-view-versus-a-copy\n",
      "  data_1['Reactants+Agents'] = data_1['Reactants'] + \".\" + data_1[\"Agents\"]\n",
      "C:\\Users\\george.hodgin\\AppData\\Local\\Temp\\ipykernel_16532\\3304276863.py:6: SettingWithCopyWarning: \n",
      "A value is trying to be set on a copy of a slice from a DataFrame.\n",
      "Try using .loc[row_indexer,col_indexer] = value instead\n",
      "\n",
      "See the caveats in the documentation: https://pandas.pydata.org/pandas-docs/stable/user_guide/indexing.html#returning-a-view-versus-a-copy\n",
      "  data_1['Reaction'] = data_1['Reactants+Agents'] + \">>\" + data_1[\"Products\"]\n"
     ]
    }
   ],
   "source": [
    "# Add the reagents to the reactants and rejoin with >> \n",
    "data_1['Reactants'] = data_1['smiles(IREACTION)(SMILES)'].str.split('>', expand=True)[0]\n",
    "data_1['Agents'] = data_1['smiles(IREACTION)(SMILES)'].str.split('>', expand=True)[1]\n",
    "data_1['Products'] = data_1['smiles(IREACTION)(SMILES)'].str.split('>', expand=True)[2]\n",
    "data_1['Reactants+Agents'] = data_1['Reactants'] + \".\" + data_1[\"Agents\"]\n",
    "data_1['Reaction'] = data_1['Reactants+Agents'] + \">>\" + data_1[\"Products\"]"
   ]
  },
  {
   "cell_type": "code",
   "execution_count": 8,
   "id": "6dcd1793",
   "metadata": {},
   "outputs": [],
   "source": [
    "# shuffle the dataframe\n",
    "data_2 = shuffle(data_1)"
   ]
  },
  {
   "cell_type": "code",
   "execution_count": 9,
   "id": "9140e6d8",
   "metadata": {},
   "outputs": [],
   "source": [
    "def encode(smiles: Iterable, length: int = 2048, radius: int = 3) -> np.ndarray: \n",
    "    return DrfpEncoder.encode(\n",
    "        smiles,\n",
    "        n_folded_length=length,\n",
    "        radius=radius,\n",
    "        rings=True,\n",
    "    )\n",
    "\n",
    "\n",
    "def encode_dataset(smiles: Iterable, length: int, radius: int) -> np.ndarray:\n",
    "    \"\"\"Encode the reaction SMILES to drfp\"\"\"\n",
    "\n",
    "    cpu_count = (\n",
    "        multiprocessing.cpu_count()\n",
    "    )  # Data gets too big for piping when splitting less in python < 2.8\n",
    "\n",
    "    # Split reaction SMILES for multiprocessing\n",
    "    k, m = divmod(len(smiles), cpu_count)\n",
    "    smiles_chunks = (\n",
    "        smiles[i * k + min(i, m) : (i + 1) * k + min(i + 1, m)]\n",
    "        for i in range(cpu_count)\n",
    "    )\n",
    "\n",
    "    # Run the fingerprint generation in parallel\n",
    "    results = []\n",
    "    with multiprocessing.Pool(cpu_count) as p:\n",
    "        results = p.map(partial(encode, length=length, radius=radius), smiles_chunks)\n",
    "\n",
    "    return np.array([item for s in results for item in s])\n"
   ]
  },
  {
   "cell_type": "code",
   "execution_count": null,
   "id": "ff13a225",
   "metadata": {},
   "outputs": [],
   "source": [
    "drfps = encode_dataset(data_2['Reaction'], length=2048, radius=3)"
   ]
  },
  {
   "cell_type": "code",
   "execution_count": null,
   "id": "d7670eb4",
   "metadata": {},
   "outputs": [],
   "source": [
    "kf = KFold(n_splits=2)"
   ]
  }
 ],
 "metadata": {
  "kernelspec": {
   "display_name": "yield",
   "language": "python",
   "name": "yield"
  },
  "language_info": {
   "codemirror_mode": {
    "name": "ipython",
    "version": 3
   },
   "file_extension": ".py",
   "mimetype": "text/x-python",
   "name": "python",
   "nbconvert_exporter": "python",
   "pygments_lexer": "ipython3",
   "version": "3.9.12"
  }
 },
 "nbformat": 4,
 "nbformat_minor": 5
}
