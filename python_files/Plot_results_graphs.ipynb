{
 "cells": [
  {
   "cell_type": "code",
   "execution_count": 11,
   "id": "a8224a80",
   "metadata": {},
   "outputs": [],
   "source": [
    "import glob \n",
    "import plotly\n",
    "import pandas\n",
    "import os"
   ]
  },
  {
   "cell_type": "code",
   "execution_count": 31,
   "id": "70aff4f5",
   "metadata": {},
   "outputs": [],
   "source": [
    "def get_graphs(directory):\n",
    "    \n",
    "    for file_name in glob.glob(directory+'*.csv'):\n",
    "        df = pd.read_csv(file_name)\n",
    "        \n",
    "        # make a scatter plot\n",
    "        fig = df.plot(x=df.iloc[:,-1],\n",
    "                      y=df.iloc[:,-2],\n",
    "                      backend='plotly',\n",
    "                      kind='scatter')\n",
    "        # update the x and y labels and add title\n",
    "        fig.update_layout(title=file_name[-12:-4],\n",
    "                         xaxis_title=\"Predicted yield (%)\",\n",
    "                         yaxis_title=\"Reported yield (%)\",\n",
    "                         font=dict(family=\"Arial\",\n",
    "                                   size=14,\n",
    "                                   color=\"RebeccaPurple\"))\n",
    "        # save the figure to the outfile directory\n",
    "        fig.write_image(f\"{file_name[:-4]}.png\")"
   ]
  },
  {
   "cell_type": "code",
   "execution_count": 32,
   "id": "3e55020c",
   "metadata": {},
   "outputs": [
    {
     "data": {
      "text/plain": [
       "'C:\\\\Users\\\\george.hodgin\\\\OneDrive - Lhasa Limited\\\\Leeds Uni\\\\data\\\\yield\\\\CA_PA\\\\python_files'"
      ]
     },
     "execution_count": 32,
     "metadata": {},
     "output_type": "execute_result"
    }
   ],
   "source": [
    "os.getcwd()"
   ]
  },
  {
   "cell_type": "code",
   "execution_count": 33,
   "id": "0cf89712",
   "metadata": {},
   "outputs": [],
   "source": [
    "get_graphs('C:\\\\Users\\\\george.hodgin\\\\OneDrive - Lhasa Limited\\\\Leeds Uni\\\\data\\\\yield\\\\CA_PA\\\\ECFP_results\\\\')"
   ]
  },
  {
   "cell_type": "code",
   "execution_count": 34,
   "id": "3949357a",
   "metadata": {},
   "outputs": [],
   "source": [
    "get_graphs('C:\\\\Users\\\\george.hodgin\\\\OneDrive - Lhasa Limited\\\\Leeds Uni\\\\data\\\\yield\\\\CA_PA\\\\DRFP_results\\\\')"
   ]
  },
  {
   "cell_type": "code",
   "execution_count": null,
   "id": "502a0120",
   "metadata": {},
   "outputs": [],
   "source": []
  }
 ],
 "metadata": {
  "kernelspec": {
   "display_name": "yield",
   "language": "python",
   "name": "yield"
  },
  "language_info": {
   "codemirror_mode": {
    "name": "ipython",
    "version": 3
   },
   "file_extension": ".py",
   "mimetype": "text/x-python",
   "name": "python",
   "nbconvert_exporter": "python",
   "pygments_lexer": "ipython3",
   "version": "3.9.12"
  }
 },
 "nbformat": 4,
 "nbformat_minor": 5
}
